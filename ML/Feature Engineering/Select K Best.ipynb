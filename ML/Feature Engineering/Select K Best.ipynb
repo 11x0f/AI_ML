{
 "cells": [
  {
   "cell_type": "code",
   "execution_count": 1,
   "id": "496d6953",
   "metadata": {},
   "outputs": [],
   "source": [
    "import pandas as pd\n",
    "import numpy as np\n",
    "\n",
    "import matplotlib.pyplot as plt\n",
    "import seaborn as sns"
   ]
  },
  {
   "cell_type": "code",
   "execution_count": 3,
   "id": "256de317",
   "metadata": {},
   "outputs": [
    {
     "data": {
      "text/html": [
       "<div>\n",
       "<style scoped>\n",
       "    .dataframe tbody tr th:only-of-type {\n",
       "        vertical-align: middle;\n",
       "    }\n",
       "\n",
       "    .dataframe tbody tr th {\n",
       "        vertical-align: top;\n",
       "    }\n",
       "\n",
       "    .dataframe thead th {\n",
       "        text-align: right;\n",
       "    }\n",
       "</style>\n",
       "<table border=\"1\" class=\"dataframe\">\n",
       "  <thead>\n",
       "    <tr style=\"text-align: right;\">\n",
       "      <th></th>\n",
       "      <th>Year</th>\n",
       "      <th>Month</th>\n",
       "      <th>Day</th>\n",
       "      <th>Hour</th>\n",
       "      <th>Dew Point</th>\n",
       "      <th>Temperature</th>\n",
       "      <th>Pressure</th>\n",
       "      <th>Relative Humidity</th>\n",
       "      <th>Wind Direction</th>\n",
       "      <th>Wind Speed</th>\n",
       "      <th>Solar Radiation (GHI)</th>\n",
       "    </tr>\n",
       "  </thead>\n",
       "  <tbody>\n",
       "    <tr>\n",
       "      <th>0</th>\n",
       "      <td>2011</td>\n",
       "      <td>1</td>\n",
       "      <td>1</td>\n",
       "      <td>0</td>\n",
       "      <td>8</td>\n",
       "      <td>13.522659</td>\n",
       "      <td>986.761841</td>\n",
       "      <td>72.295858</td>\n",
       "      <td>37.288387</td>\n",
       "      <td>3.011042</td>\n",
       "      <td>0</td>\n",
       "    </tr>\n",
       "    <tr>\n",
       "      <th>1</th>\n",
       "      <td>2011</td>\n",
       "      <td>1</td>\n",
       "      <td>1</td>\n",
       "      <td>1</td>\n",
       "      <td>8</td>\n",
       "      <td>12.835814</td>\n",
       "      <td>986.441406</td>\n",
       "      <td>75.376186</td>\n",
       "      <td>37.686718</td>\n",
       "      <td>3.091243</td>\n",
       "      <td>0</td>\n",
       "    </tr>\n",
       "    <tr>\n",
       "      <th>2</th>\n",
       "      <td>2011</td>\n",
       "      <td>1</td>\n",
       "      <td>1</td>\n",
       "      <td>2</td>\n",
       "      <td>8</td>\n",
       "      <td>12.198058</td>\n",
       "      <td>985.736511</td>\n",
       "      <td>78.405198</td>\n",
       "      <td>35.053905</td>\n",
       "      <td>3.007649</td>\n",
       "      <td>0</td>\n",
       "    </tr>\n",
       "    <tr>\n",
       "      <th>3</th>\n",
       "      <td>2011</td>\n",
       "      <td>1</td>\n",
       "      <td>1</td>\n",
       "      <td>3</td>\n",
       "      <td>8</td>\n",
       "      <td>11.583500</td>\n",
       "      <td>985.525696</td>\n",
       "      <td>81.042980</td>\n",
       "      <td>30.135216</td>\n",
       "      <td>2.926715</td>\n",
       "      <td>0</td>\n",
       "    </tr>\n",
       "    <tr>\n",
       "      <th>4</th>\n",
       "      <td>2011</td>\n",
       "      <td>1</td>\n",
       "      <td>1</td>\n",
       "      <td>4</td>\n",
       "      <td>8</td>\n",
       "      <td>11.029578</td>\n",
       "      <td>985.661926</td>\n",
       "      <td>82.548508</td>\n",
       "      <td>24.402969</td>\n",
       "      <td>2.915177</td>\n",
       "      <td>0</td>\n",
       "    </tr>\n",
       "  </tbody>\n",
       "</table>\n",
       "</div>"
      ],
      "text/plain": [
       "   Year  Month  Day  Hour  Dew Point  Temperature    Pressure  \\\n",
       "0  2011      1    1     0          8    13.522659  986.761841   \n",
       "1  2011      1    1     1          8    12.835814  986.441406   \n",
       "2  2011      1    1     2          8    12.198058  985.736511   \n",
       "3  2011      1    1     3          8    11.583500  985.525696   \n",
       "4  2011      1    1     4          8    11.029578  985.661926   \n",
       "\n",
       "   Relative Humidity  Wind Direction  Wind Speed  Solar Radiation (GHI)  \n",
       "0          72.295858       37.288387    3.011042                      0  \n",
       "1          75.376186       37.686718    3.091243                      0  \n",
       "2          78.405198       35.053905    3.007649                      0  \n",
       "3          81.042980       30.135216    2.926715                      0  \n",
       "4          82.548508       24.402969    2.915177                      0  "
      ]
     },
     "execution_count": 3,
     "metadata": {},
     "output_type": "execute_result"
    }
   ],
   "source": [
    "data = pd.read_csv(\"global_heat_index.csv\")\n",
    "data.head(5)"
   ]
  },
  {
   "cell_type": "code",
   "execution_count": 5,
   "id": "a78c0a62",
   "metadata": {},
   "outputs": [],
   "source": [
    "clean1 = data[data[\"Hour\"]<6]\n",
    "clean2 = data[data[\"Hour\"]>18]"
   ]
  },
  {
   "cell_type": "code",
   "execution_count": 9,
   "id": "7d9427a4",
   "metadata": {},
   "outputs": [],
   "source": [
    "data = data.drop(clean1.index, axis=0)\n",
    "data = data.drop(clean2.index, axis=0)"
   ]
  },
  {
   "cell_type": "code",
   "execution_count": 11,
   "id": "58f8e7ab",
   "metadata": {},
   "outputs": [
    {
     "data": {
      "text/html": [
       "<div>\n",
       "<style scoped>\n",
       "    .dataframe tbody tr th:only-of-type {\n",
       "        vertical-align: middle;\n",
       "    }\n",
       "\n",
       "    .dataframe tbody tr th {\n",
       "        vertical-align: top;\n",
       "    }\n",
       "\n",
       "    .dataframe thead th {\n",
       "        text-align: right;\n",
       "    }\n",
       "</style>\n",
       "<table border=\"1\" class=\"dataframe\">\n",
       "  <thead>\n",
       "    <tr style=\"text-align: right;\">\n",
       "      <th></th>\n",
       "      <th>Year</th>\n",
       "      <th>Month</th>\n",
       "      <th>Day</th>\n",
       "      <th>Hour</th>\n",
       "      <th>Dew Point</th>\n",
       "      <th>Temperature</th>\n",
       "      <th>Pressure</th>\n",
       "      <th>Relative Humidity</th>\n",
       "      <th>Wind Direction</th>\n",
       "      <th>Wind Speed</th>\n",
       "      <th>Solar Radiation (GHI)</th>\n",
       "    </tr>\n",
       "  </thead>\n",
       "  <tbody>\n",
       "    <tr>\n",
       "      <th>6</th>\n",
       "      <td>2011</td>\n",
       "      <td>1</td>\n",
       "      <td>1</td>\n",
       "      <td>6</td>\n",
       "      <td>2</td>\n",
       "      <td>7.806705</td>\n",
       "      <td>986.249146</td>\n",
       "      <td>67.093181</td>\n",
       "      <td>95.835983</td>\n",
       "      <td>1.815175</td>\n",
       "      <td>0</td>\n",
       "    </tr>\n",
       "    <tr>\n",
       "      <th>7</th>\n",
       "      <td>2011</td>\n",
       "      <td>1</td>\n",
       "      <td>1</td>\n",
       "      <td>7</td>\n",
       "      <td>2</td>\n",
       "      <td>9.036408</td>\n",
       "      <td>987.038940</td>\n",
       "      <td>64.035483</td>\n",
       "      <td>105.198181</td>\n",
       "      <td>1.615310</td>\n",
       "      <td>0</td>\n",
       "    </tr>\n",
       "    <tr>\n",
       "      <th>8</th>\n",
       "      <td>2011</td>\n",
       "      <td>1</td>\n",
       "      <td>1</td>\n",
       "      <td>8</td>\n",
       "      <td>3</td>\n",
       "      <td>12.158280</td>\n",
       "      <td>987.897400</td>\n",
       "      <td>55.105656</td>\n",
       "      <td>113.317665</td>\n",
       "      <td>1.439088</td>\n",
       "      <td>159</td>\n",
       "    </tr>\n",
       "    <tr>\n",
       "      <th>9</th>\n",
       "      <td>2011</td>\n",
       "      <td>1</td>\n",
       "      <td>1</td>\n",
       "      <td>9</td>\n",
       "      <td>3</td>\n",
       "      <td>14.965301</td>\n",
       "      <td>988.211914</td>\n",
       "      <td>47.166938</td>\n",
       "      <td>117.327606</td>\n",
       "      <td>1.063374</td>\n",
       "      <td>363</td>\n",
       "    </tr>\n",
       "    <tr>\n",
       "      <th>10</th>\n",
       "      <td>2011</td>\n",
       "      <td>1</td>\n",
       "      <td>1</td>\n",
       "      <td>10</td>\n",
       "      <td>3</td>\n",
       "      <td>18.956082</td>\n",
       "      <td>988.054504</td>\n",
       "      <td>36.747087</td>\n",
       "      <td>72.488327</td>\n",
       "      <td>0.545695</td>\n",
       "      <td>533</td>\n",
       "    </tr>\n",
       "  </tbody>\n",
       "</table>\n",
       "</div>"
      ],
      "text/plain": [
       "    Year  Month  Day  Hour  Dew Point  Temperature    Pressure  \\\n",
       "6   2011      1    1     6          2     7.806705  986.249146   \n",
       "7   2011      1    1     7          2     9.036408  987.038940   \n",
       "8   2011      1    1     8          3    12.158280  987.897400   \n",
       "9   2011      1    1     9          3    14.965301  988.211914   \n",
       "10  2011      1    1    10          3    18.956082  988.054504   \n",
       "\n",
       "    Relative Humidity  Wind Direction  Wind Speed  Solar Radiation (GHI)  \n",
       "6           67.093181       95.835983    1.815175                      0  \n",
       "7           64.035483      105.198181    1.615310                      0  \n",
       "8           55.105656      113.317665    1.439088                    159  \n",
       "9           47.166938      117.327606    1.063374                    363  \n",
       "10          36.747087       72.488327    0.545695                    533  "
      ]
     },
     "execution_count": 11,
     "metadata": {},
     "output_type": "execute_result"
    }
   ],
   "source": [
    "data.head()"
   ]
  },
  {
   "cell_type": "code",
   "execution_count": null,
   "id": "3a44b6f3",
   "metadata": {},
   "outputs": [],
   "source": []
  },
  {
   "cell_type": "markdown",
   "id": "a9db2aa2",
   "metadata": {},
   "source": [
    "### Input and Output"
   ]
  },
  {
   "cell_type": "code",
   "execution_count": 14,
   "id": "aa0f04af",
   "metadata": {},
   "outputs": [],
   "source": [
    "x = data.iloc[:,0:10]\n",
    "y = data.iloc[:,10:11]"
   ]
  },
  {
   "cell_type": "code",
   "execution_count": 17,
   "id": "f06af330",
   "metadata": {},
   "outputs": [],
   "source": [
    "from sklearn.preprocessing import MinMaxScaler\n",
    "sc = MinMaxScaler()\n",
    "x = sc.fit_transform(x)\n"
   ]
  },
  {
   "cell_type": "code",
   "execution_count": null,
   "id": "a93b7fa0",
   "metadata": {},
   "outputs": [],
   "source": []
  },
  {
   "cell_type": "markdown",
   "id": "60023827",
   "metadata": {},
   "source": [
    "## <font color=\"blue\"> Select K Best </font>"
   ]
  },
  {
   "cell_type": "code",
   "execution_count": 20,
   "id": "d23cde33",
   "metadata": {},
   "outputs": [],
   "source": [
    "from sklearn.feature_selection import SelectKBest\n",
    "from sklearn.feature_selection import chi2"
   ]
  },
  {
   "cell_type": "code",
   "execution_count": 22,
   "id": "d72ef5ca",
   "metadata": {},
   "outputs": [],
   "source": [
    "best_features = SelectKBest(score_func=chi2, k=10).fit(x,y)\n"
   ]
  },
  {
   "cell_type": "code",
   "execution_count": 31,
   "id": "cd0ab1b6",
   "metadata": {},
   "outputs": [],
   "source": [
    "col = [\"Year\", \"Month\", \"Day\", \"Hour\", \"Dew Point\", \"Temperature\", \"Pressure\", \"Relative Humidity\", \"Wind Direction\", \"Wind Speed\"]\n",
    "features_score = pd.Series(best_features.scores_, index = col)"
   ]
  },
  {
   "cell_type": "code",
   "execution_count": 32,
   "id": "98d22e33",
   "metadata": {},
   "outputs": [
    {
     "data": {
      "text/plain": [
       "Year                 504.976721\n",
       "Month                236.303859\n",
       "Day                  208.497847\n",
       "Hour                 271.978728\n",
       "Dew Point             74.952667\n",
       "Temperature          306.062548\n",
       "Pressure             213.040872\n",
       "Relative Humidity    397.828591\n",
       "Wind Direction       221.823327\n",
       "Wind Speed           148.735716\n",
       "dtype: float64"
      ]
     },
     "execution_count": 32,
     "metadata": {},
     "output_type": "execute_result"
    }
   ],
   "source": [
    "features_score"
   ]
  },
  {
   "cell_type": "code",
   "execution_count": 33,
   "id": "5a0d86f7",
   "metadata": {},
   "outputs": [
    {
     "data": {
      "image/png": "[encoded data removed]",
      "text/plain": [
       "<Figure size 640x480 with 1 Axes>"
      ]
     },
     "metadata": {},
     "output_type": "display_data"
    }
   ],
   "source": [
    "features_score.nlargest(10).plot(kind=\"bar\")\n",
    "plt.show()"
   ]
  }
 ],
 "metadata": {
  "kernelspec": {
   "display_name": "Python 3 (ipykernel)",
   "language": "python",
   "name": "python3"
  },
  "language_info": {
   "codemirror_mode": {
    "name": "ipython",
    "version": 3
   },
   "file_extension": ".py",
   "mimetype": "text/x-python",
   "name": "python",
   "nbconvert_exporter": "python",
   "pygments_lexer": "ipython3",
   "version": "3.11.3"
  }
 },
 "nbformat": 4,
 "nbformat_minor": 5
}

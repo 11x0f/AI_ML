{
 "cells": [
  {
   "cell_type": "code",
   "execution_count": 10,
   "id": "1c3f560e-8f0b-4e96-81a4-c52a5d13bfbf",
   "metadata": {},
   "outputs": [],
   "source": [
    "import numpy as np\n",
    "import pandas as pd"
   ]
  },
  {
   "cell_type": "code",
   "execution_count": 12,
   "id": "1c4a571d-cff3-4b03-b0fe-31e333fb811c",
   "metadata": {},
   "outputs": [],
   "source": [
    "input_size = 3 #no of features\n",
    "layers = [3,2] # no of neurons in first and second layer(hidden)\n",
    "output_size = 2 \n"
   ]
  },
  {
   "cell_type": "code",
   "execution_count": 14,
   "id": "b663bf74-bf7b-49ef-9e43-b758f79de8b4",
   "metadata": {},
   "outputs": [],
   "source": [
    "class NeuralNetwork:\n",
    "    def __init__(self, input_size, layers, output_Size):\n",
    "        np.random.seed(0)\n",
    "\n",
    "        model = {}\n",
    "        model[\"w1\"] = np.random.randn(input_size, layers[0])\n",
    "        model[\"b1\"] = np.zeros(1, layers[0])\n",
    "\n",
    "        model[\"w2\"] = np.random.randn(layers[0], layers[1])\n",
    "        model[\"b2\"] = np.zeros(1, layers[1])\n",
    "\n",
    "        model[\"w3\"] = np.random.randn(layers[1], output_size)\n",
    "        model[\"b3\"] = np.zeros(1, output_size)\n",
    "\n",
    "        self.model = model"
   ]
  },
  {
   "cell_type": "code",
   "execution_count": 18,
   "id": "5a163f2f-b73f-4081-83a9-64c2b0a1b2b2",
   "metadata": {},
   "outputs": [
    {
     "data": {
      "text/plain": [
       "array([[ 0.17182884, -1.97899787, -1.26682561],\n",
       "       [ 0.18305705,  1.77362705, -1.77418226],\n",
       "       [ 2.67494779, -0.32496838, -0.39244867]])"
      ]
     },
     "execution_count": 18,
     "metadata": {},
     "output_type": "execute_result"
    }
   ],
   "source": [
    "w1 = np.random.randn(input_size, layers[0])\n",
    "w1"
   ]
  }
 ],
 "metadata": {
  "kernelspec": {
   "display_name": "Python [conda env:base] *",
   "language": "python",
   "name": "conda-base-py"
  },
  "language_info": {
   "codemirror_mode": {
    "name": "ipython",
    "version": 3
   },
   "file_extension": ".py",
   "mimetype": "text/x-python",
   "name": "python",
   "nbconvert_exporter": "python",
   "pygments_lexer": "ipython3",
   "version": "3.12.7"
  }
 },
 "nbformat": 4,
 "nbformat_minor": 5
}

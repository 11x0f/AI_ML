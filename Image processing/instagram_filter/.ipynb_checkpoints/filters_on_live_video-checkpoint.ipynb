{
 "cells": [
  {
   "cell_type": "code",
   "execution_count": 1,
   "id": "18b4e010-0d08-47c3-ba22-eaf3632094e8",
   "metadata": {},
   "outputs": [],
   "source": [
    "import cv2 as cv\n",
    "import numpy as np\n",
    "import matplotlib.pyplot as plt\n"
   ]
  },
  {
   "cell_type": "markdown",
   "id": "b659a9ae-efe5-4538-b21a-7345085556cf",
   "metadata": {},
   "source": [
    "## change brightness"
   ]
  },
  {
   "cell_type": "code",
   "execution_count": 25,
   "id": "335aedaf-51ce-4c01-b615-5f03c198780b",
   "metadata": {},
   "outputs": [],
   "source": [
    "cam = cv.VideoCapture(0)\n",
    "\n",
    "while True:\n",
    "    _, img = cam.read()\n",
    "    img = cv.flip(img, 1)\n",
    "    \n",
    "    low_img = img + 20.0  # add, subtract, multiply or divide by any float or int value \n",
    "    \n",
    "    low_img[low_img<0] = 0\n",
    "    low_img[low_img>255] = 255\n",
    "    \n",
    "    low_img = low_img.astype(np.uint8)\n",
    "    \n",
    "    cv.imshow(\"orginal\", img)\n",
    "    cv.imshow(\"new\" ,low_img)\n",
    "    \n",
    "    if cv.waitKey(10) == 27:\n",
    "        cam.release()\n",
    "        cv.destroyAllWindows()\n",
    "        break"
   ]
  },
  {
   "cell_type": "code",
   "execution_count": 28,
   "id": "f3b3da48-ef26-4dc4-bac7-b4e29addf456",
   "metadata": {},
   "outputs": [
    {
     "data": {
      "text/plain": [
       "(480, 640, 3)"
      ]
     },
     "execution_count": 28,
     "metadata": {},
     "output_type": "execute_result"
    }
   ],
   "source": [
    "img.shape"
   ]
  },
  {
   "cell_type": "markdown",
   "id": "c7097f79-de93-458c-8df7-950d5a2ec37c",
   "metadata": {},
   "source": [
    "## add warmth/ coolness"
   ]
  },
  {
   "cell_type": "raw",
   "id": "73ab1826-91ed-43e4-963a-8497e6b348d2",
   "metadata": {},
   "source": [
    "add cool tone - add bluish color\n",
    "add warmth   - add yellow color"
   ]
  },
  {
   "cell_type": "markdown",
   "id": "e33ee4c1-aa7f-4305-8a63-782b74043514",
   "metadata": {},
   "source": [
    "## cool tone"
   ]
  },
  {
   "cell_type": "code",
   "execution_count": 5,
   "id": "769a555a-d6f7-47bf-8bc0-de73c3186fde",
   "metadata": {},
   "outputs": [],
   "source": [
    "blue = [247, 205, 139]\n",
    "\n",
    "cool = []\n",
    "\n",
    "for i in range(480):\n",
    "    temp=[]\n",
    "    for j in range(640):\n",
    "        temp.append(blue)\n",
    "\n",
    "    cool.append(temp)\n",
    "\n",
    "cool = np.array(cool).astype(np.uint8)"
   ]
  },
  {
   "cell_type": "code",
   "execution_count": 7,
   "id": "6ebb3c7c-f5b8-4904-bb1b-2fac5e9c45f6",
   "metadata": {},
   "outputs": [],
   "source": [
    "cam = cv.VideoCapture(0)\n",
    "\n",
    "while True:\n",
    "    _, img = cam.read()\n",
    "    img = cv.flip(img, 1)\n",
    "    img = np.array(img).astype(np.uint8)\n",
    "\n",
    "    cool_img = cv.addWeighted(img, 0.8, cool, 0.2, 0)\n",
    "    \n",
    "    \n",
    "    cv.imshow(\"orginal\", img)\n",
    "    cv.imshow(\"cool\", cool_img)\n",
    "\n",
    "    \n",
    "    if cv.waitKey(10) == 27:\n",
    "        cam.release()\n",
    "        cv.destroyAllWindows()\n",
    "        break"
   ]
  },
  {
   "cell_type": "code",
   "execution_count": null,
   "id": "4ac43ed2-a6c3-44c0-9744-b2fedeb9eb56",
   "metadata": {},
   "outputs": [],
   "source": []
  },
  {
   "cell_type": "markdown",
   "id": "3992b800-1f1e-453e-876b-9ee662db0c82",
   "metadata": {},
   "source": [
    "## warmer tone"
   ]
  },
  {
   "cell_type": "code",
   "execution_count": 8,
   "id": "d3ad075f-8db4-4576-8576-87c1a144dafc",
   "metadata": {},
   "outputs": [],
   "source": [
    "yellow = [108,222, 249]\n",
    "warm = []\n",
    "\n",
    "for i in range(480):\n",
    "    temp=[]\n",
    "    for j in range(640):\n",
    "        temp.append(yellow)\n",
    "\n",
    "    warm.append(temp)\n",
    "\n",
    "warm = np.array(warm).astype(np.uint8)"
   ]
  },
  {
   "cell_type": "code",
   "execution_count": 9,
   "id": "a2e1a5f1-6992-46be-8f4a-6083d8254ac8",
   "metadata": {},
   "outputs": [],
   "source": [
    "cam = cv.VideoCapture(0)\n",
    "\n",
    "while True:\n",
    "    _, img = cam.read()\n",
    "    img = cv.flip(img, 1)\n",
    "    img = np.array(img).astype(np.uint8)\n",
    "\n",
    "    warm_img = cv.addWeighted(img, 0.8, warm, 0.2, 0)\n",
    "    \n",
    "    \n",
    "    cv.imshow(\"orginal\", img)\n",
    "    cv.imshow(\"cool\", warm_img)\n",
    "\n",
    "    \n",
    "    if cv.waitKey(10) == 27:\n",
    "        cam.release()\n",
    "        cv.destroyAllWindows()\n",
    "        break"
   ]
  },
  {
   "cell_type": "markdown",
   "id": "6197debf-eb99-46a6-b4dd-b1643654bf88",
   "metadata": {},
   "source": [
    "## creating both filters "
   ]
  },
  {
   "cell_type": "code",
   "execution_count": 17,
   "id": "4c50385e-d764-4713-b8a9-e40838de3d25",
   "metadata": {},
   "outputs": [],
   "source": [
    "yellow = [108,222, 249]\n",
    "warm = []\n",
    "for i in range(480):\n",
    "    temp=[]\n",
    "    for j in range(640):\n",
    "        temp.append(yellow)\n",
    "    warm.append(temp)\n",
    "warm = np.array(warm).astype(np.uint8)\n",
    "\n",
    "\n",
    "\n",
    "blue = [247, 205, 139]\n",
    "cool = []\n",
    "for i in range(480):\n",
    "    temp=[]\n",
    "    for j in range(640):\n",
    "        temp.append(blue)\n",
    "    cool.append(temp)\n",
    "cool = np.array(cool).astype(np.uint8)\n",
    "\n",
    "\n",
    "cam = cv.VideoCapture(0)\n",
    "\n",
    "while True:\n",
    "    _, img = cam.read()\n",
    "    img = cv.flip(img, 1)\n",
    "    img = np.array(img).astype(np.uint8)\n",
    "    \n",
    "    mrg_warm = cv.addWeighted(img, 0.8, warm, 0.2, 0)\n",
    "    mrg_cool = cv.addWeighted(img, 0.8, cool, 0.2, 0)\n",
    "\n",
    "    cv.imshow(\"original\", img)\n",
    "    cv.imshow(\"warm image\", mrg_warm)\n",
    "    cv.imshow(\"cool image\", mrg_cool)\n",
    "    \n",
    "    if cv.waitKey(10) == 27:\n",
    "        cam.release()\n",
    "        cv.destroyAllWindows()\n",
    "        break"
   ]
  },
  {
   "cell_type": "code",
   "execution_count": null,
   "id": "06d747fe-b27f-4932-ae3a-519c93a83cb6",
   "metadata": {},
   "outputs": [],
   "source": []
  }
 ],
 "metadata": {
  "kernelspec": {
   "display_name": "Python [conda env:base] *",
   "language": "python",
   "name": "conda-base-py"
  },
  "language_info": {
   "codemirror_mode": {
    "name": "ipython",
    "version": 3
   },
   "file_extension": ".py",
   "mimetype": "text/x-python",
   "name": "python",
   "nbconvert_exporter": "python",
   "pygments_lexer": "ipython3",
   "version": "3.12.7"
  }
 },
 "nbformat": 4,
 "nbformat_minor": 5
}

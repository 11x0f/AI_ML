{
 "cells": [
  {
   "cell_type": "code",
   "execution_count": 1,
   "id": "95f18f6d-ff5a-42af-8155-8e47c86d16fd",
   "metadata": {},
   "outputs": [],
   "source": [
    "import cv2 as cv\n",
    "import numpy as np"
   ]
  },
  {
   "cell_type": "markdown",
   "id": "1fca2d7c-29e4-4a89-ae6d-538f413b1207",
   "metadata": {},
   "source": [
    "## creating yellow and blue backgrounds "
   ]
  },
  {
   "cell_type": "code",
   "execution_count": 16,
   "id": "708e267b-201b-4e67-91d5-ceb881e6f4e9",
   "metadata": {},
   "outputs": [],
   "source": [
    "def setBackground( x,  y):\n",
    "    yellow = [108,222, 249]\n",
    "    warm = []\n",
    "    for i in range(x):\n",
    "        temp=[]\n",
    "        for j in range(y):\n",
    "            temp.append(yellow)\n",
    "        warm.append(temp)\n",
    "    warm = np.array(warm).astype(np.uint8)\n",
    "    \n",
    "    \n",
    "    \n",
    "    blue = [247, 205, 139]\n",
    "    cool = []\n",
    "    for i in range(x):\n",
    "        temp=[]\n",
    "        for j in range(y):\n",
    "            temp.append(blue)\n",
    "        cool.append(temp)\n",
    "    cool = np.array(cool).astype(np.uint8)"
   ]
  },
  {
   "cell_type": "code",
   "execution_count": 28,
   "id": "ab16387e-a1a7-4cd1-bc5f-645269e943b3",
   "metadata": {},
   "outputs": [],
   "source": [
    "img = cv.imread(\"img_5.png\")\n",
    "setBackground(img.shape[0], img.shape[1])\n",
    "\n",
    "img = np.array(img).astype(np.uint8)\n",
    "\n",
    "cool_img = cv.addWeighted(img, 0.8, cool, 0.2, 0)\n",
    "warm_img = cv.addWeighted(img, 0.8, warm, 0.2, 0)\n",
    "\n",
    "cv.imshow(\"orginal\", img)\n",
    "cv.imshow(\"cool\", cool_img)\n",
    "cv.imshow(\"warm\", warm_img)\n",
    "cv.waitKey(0)\n",
    "cv.destroyAllWindows()"
   ]
  },
  {
   "cell_type": "code",
   "execution_count": null,
   "id": "98f409d7-b164-45ed-843d-01e6803357cf",
   "metadata": {},
   "outputs": [],
   "source": []
  },
  {
   "cell_type": "markdown",
   "id": "31fb733b-a751-4a88-b097-9d44c202250a",
   "metadata": {},
   "source": [
    "## merging images"
   ]
  },
  {
   "cell_type": "code",
   "execution_count": 32,
   "id": "4d5869a2-b483-44dc-81a0-31cf8577520b",
   "metadata": {},
   "outputs": [],
   "source": [
    "def merge(foreground_path, background_path, a, b):\n",
    "    img = cv.imread(foreground_path)\n",
    "    background = cv.imread(background_path)\n",
    "\n",
    "    background = cv.resize(background, img.shape[1], img.shape[0])\n",
    "    final = cv.addWeighted(img, a, background, b, 0)\n",
    "\n",
    "    cv.imshow(\"orginal\", img)\n",
    "    cv.imshow(\"merged\", final)\n",
    "    cv.waitKey(0)\n",
    "    cv.destroyAllWindows()\n",
    "    "
   ]
  },
  {
   "cell_type": "code",
   "execution_count": null,
   "id": "6b01eaca-1e23-48ae-98e2-6fcfa954ca85",
   "metadata": {},
   "outputs": [],
   "source": [
    "merge("
   ]
  }
 ],
 "metadata": {
  "kernelspec": {
   "display_name": "Python [conda env:base] *",
   "language": "python",
   "name": "conda-base-py"
  },
  "language_info": {
   "codemirror_mode": {
    "name": "ipython",
    "version": 3
   },
   "file_extension": ".py",
   "mimetype": "text/x-python",
   "name": "python",
   "nbconvert_exporter": "python",
   "pygments_lexer": "ipython3",
   "version": "3.12.7"
  }
 },
 "nbformat": 4,
 "nbformat_minor": 5
}

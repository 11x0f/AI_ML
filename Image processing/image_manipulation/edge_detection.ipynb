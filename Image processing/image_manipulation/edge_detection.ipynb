{
 "cells": [
  {
   "cell_type": "code",
   "execution_count": 1,
   "id": "0f11c141-c186-452e-aeb9-1882e58ac410",
   "metadata": {},
   "outputs": [],
   "source": [
    "import cv2 as cv\n",
    "import numpy as np\n"
   ]
  },
  {
   "cell_type": "code",
   "execution_count": 5,
   "id": "758fe9c9-6cd2-4e54-a3d8-9d1ee324b984",
   "metadata": {},
   "outputs": [],
   "source": [
    "cam = cv.VideoCapture(0)\n",
    "\n",
    "while True:\n",
    "    _, img= cam.read()\n",
    "\n",
    "    img = cv.flip(img,1)\n",
    "\n",
    "    edge1 = cv.Canny(img, 0,50)\n",
    "    edge2 = cv.Canny(img, 50,100)\n",
    "    edge3 = cv.Canny(img, 100,150)\n",
    "    edge4 = cv.Canny(img, 150,200)\n",
    "    cv.imshow(\"Frame\", img)\n",
    "    cv.imshow(\"Edge 1\", edge1)\n",
    "    cv.imshow(\"Edge 2\", edge2)\n",
    "    cv.imshow(\"Edge 3\", edge3)\n",
    "    cv.imshow(\"Edge 4\", edge4)\n",
    "    if cv.waitKey(10)==27:\n",
    "        cam.release()\n",
    "        break\n",
    "    "
   ]
  },
  {
   "cell_type": "code",
   "execution_count": null,
   "id": "d45585c2-40de-4bf9-91d7-d5173a0b1406",
   "metadata": {},
   "outputs": [],
   "source": []
  }
 ],
 "metadata": {
  "kernelspec": {
   "display_name": "Python [conda env:base] *",
   "language": "python",
   "name": "conda-base-py"
  },
  "language_info": {
   "codemirror_mode": {
    "name": "ipython",
    "version": 3
   },
   "file_extension": ".py",
   "mimetype": "text/x-python",
   "name": "python",
   "nbconvert_exporter": "python",
   "pygments_lexer": "ipython3",
   "version": "3.12.7"
  }
 },
 "nbformat": 4,
 "nbformat_minor": 5
}

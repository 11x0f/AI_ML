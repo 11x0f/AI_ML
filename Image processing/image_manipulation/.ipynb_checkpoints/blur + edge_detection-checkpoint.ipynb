{
 "cells": [
  {
   "cell_type": "code",
   "execution_count": 2,
   "id": "3429053a-a624-467e-a851-79f414a0f47d",
   "metadata": {},
   "outputs": [],
   "source": [
    "import cv2 as cv\n",
    "import numpy as np"
   ]
  },
  {
   "cell_type": "code",
   "execution_count": null,
   "id": "7ef3da93-6cab-4aff-8724-8d96412396f4",
   "metadata": {},
   "outputs": [],
   "source": [
    "cam = cv.VideoCapture(0)\n",
    "\n",
    "while True:\n",
    "    _, img = cam.read()\n",
    "    img = cv.flip(img,1)\n",
    "\n",
    "    #blur on original frame\n",
    "    blr = cv.blur(img, (1,1) )\n",
    "    #edge detection on original frame\n",
    "    edg = cv.Canny(img, 100,200)\n",
    "    #edge detection on blur frame\n",
    "    fin= cv.Canny(blr, 100,200)\n",
    "    \n",
    "    cv.imshow(\"Frame\", img)\n",
    "    cv.imshow(\"blur\", blr)\n",
    "    cv.imshow(\"edges \", edg)\n",
    "    cv.imshow(\"Final\", fin)\n",
    "    \n",
    "    if cv.waitKey(10)==27:\n",
    "        cam.release()\n",
    "        break;"
   ]
  },
  {
   "cell_type": "code",
   "execution_count": null,
   "id": "28472574-6e4d-4af8-b1f6-7ecac36e12fb",
   "metadata": {},
   "outputs": [],
   "source": []
  }
 ],
 "metadata": {
  "kernelspec": {
   "display_name": "Python [conda env:base] *",
   "language": "python",
   "name": "conda-base-py"
  },
  "language_info": {
   "codemirror_mode": {
    "name": "ipython",
    "version": 3
   },
   "file_extension": ".py",
   "mimetype": "text/x-python",
   "name": "python",
   "nbconvert_exporter": "python",
   "pygments_lexer": "ipython3",
   "version": "3.12.7"
  }
 },
 "nbformat": 4,
 "nbformat_minor": 5
}

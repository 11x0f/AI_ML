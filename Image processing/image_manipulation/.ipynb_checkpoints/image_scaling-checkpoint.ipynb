{
 "cells": [
  {
   "cell_type": "code",
   "execution_count": 2,
   "id": "a8a10ccb-ae8c-4f77-9d1b-faa009d57770",
   "metadata": {},
   "outputs": [],
   "source": [
    "import cv2 as cv\n",
    "import numpy as np"
   ]
  },
  {
   "cell_type": "code",
   "execution_count": 14,
   "id": "c2a54422-bb8f-4ee2-a863-33f9a4ea0efc",
   "metadata": {},
   "outputs": [],
   "source": [
    "cam = cv.VideoCapture(0)\n",
    "\n",
    "while True:\n",
    "    _, img = cam.read()\n",
    "\n",
    "    img = cv.flip(img, 1)\n",
    "    resized1 = cv.resize(img, (320,240))\n",
    "    resized2 = cv.resize(img, (480,360))\n",
    "    resized3 = cv.resize(img, (640,480))\n",
    "\n",
    "    cv.imshow(\"Original \", img)\n",
    "    cv.imshow(\"Resized 240p\", resized1)\n",
    "    cv.imshow(\"Resized 360p\", resized2)\n",
    "    cv.imshow(\"Resized 480p\", resized3)\n",
    "\n",
    "    if cv.waitKey(10)==27:\n",
    "        cam.release()\n",
    "        cv.destroyAllWindows()\n",
    "        break;"
   ]
  },
  {
   "cell_type": "code",
   "execution_count": 6,
   "id": "f4c2d442-093a-4911-8749-b20e7f345c61",
   "metadata": {},
   "outputs": [
    {
     "data": {
      "text/plain": [
       "(480, 640, 3)"
      ]
     },
     "execution_count": 6,
     "metadata": {},
     "output_type": "execute_result"
    }
   ],
   "source": [
    "img.shape"
   ]
  },
  {
   "cell_type": "code",
   "execution_count": null,
   "id": "3ade2e70-7ba6-472f-b37c-45e99eaee089",
   "metadata": {},
   "outputs": [],
   "source": []
  }
 ],
 "metadata": {
  "kernelspec": {
   "display_name": "Python [conda env:base] *",
   "language": "python",
   "name": "conda-base-py"
  },
  "language_info": {
   "codemirror_mode": {
    "name": "ipython",
    "version": 3
   },
   "file_extension": ".py",
   "mimetype": "text/x-python",
   "name": "python",
   "nbconvert_exporter": "python",
   "pygments_lexer": "ipython3",
   "version": "3.12.7"
  }
 },
 "nbformat": 4,
 "nbformat_minor": 5
}

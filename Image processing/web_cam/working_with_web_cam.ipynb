{
 "cells": [
  {
   "cell_type": "code",
   "execution_count": 3,
   "id": "d3dca320-be6b-42e2-812c-9fab1b59b2be",
   "metadata": {},
   "outputs": [],
   "source": [
    "import cv2 as cv\n",
    "import numpy as np"
   ]
  },
  {
   "cell_type": "code",
   "execution_count": 5,
   "id": "981dcfb7-f736-4dcd-ab95-ab136a55428d",
   "metadata": {},
   "outputs": [],
   "source": [
    "cam = cv.VideoCapture(0)\n",
    "# 0 <--- inbuilt cam \n",
    "# 1 <--- external cam\n",
    "# 2 <--- second external cam ...\n",
    "\n",
    "while True:\n",
    "    _, img = cam.read()\n",
    "    cv.imshow(\"Cam Recoder\", img)\n",
    "    img = cv.flip(img, 1)\n",
    "    # 1 <--- flip horizontally\n",
    "    # 0 <--- flip vertically\n",
    "    \n",
    "    if cv.waitKey(10)==27:\n",
    "        cam.release()\n",
    "        cv.destroyAllWindows()\n",
    "        break"
   ]
  },
  {
   "cell_type": "markdown",
   "id": "c655501f-cc9d-4ee5-921d-fb7cab208f84",
   "metadata": {},
   "source": [
    "### frame cropping"
   ]
  },
  {
   "cell_type": "code",
   "execution_count": 9,
   "id": "f7933334-aaef-44cd-951b-87179bca3733",
   "metadata": {},
   "outputs": [],
   "source": [
    "cam = cv.VideoCapture(0)\n",
    "\n",
    "while True:\n",
    "    _, img = cam.read()\n",
    "    cv.imshow(\"Cam Recoder\", img)\n",
    "    img = cv.flip(img, 1)\n",
    "    frame = img[100 :500 , : , : ]\n",
    "    cv.imshow(\"Cam Recoder\", img)\n",
    "    cv.imshow(\"cropped frame\", frame)\n",
    "    if cv.waitKey(10)==27:\n",
    "        cam.release()\n",
    "        cv.destroyAllWindows()\n",
    "        break"
   ]
  },
  {
   "cell_type": "markdown",
   "id": "7a2daf4d-424d-4548-b306-fcd7640be43a",
   "metadata": {},
   "source": [
    "### extring rbg from live feed"
   ]
  },
  {
   "cell_type": "code",
   "execution_count": 13,
   "id": "4322fc1d-4d3a-45d5-91a8-385f2874e012",
   "metadata": {},
   "outputs": [],
   "source": [
    "cam = cv.VideoCapture(0)\n",
    "\n",
    "while True:\n",
    "    _, img = cam.read()\n",
    "    img = cv.flip(img, 1)\n",
    "\n",
    "    hsv = cv.cvtColor(img, cv.COLOR_BGR2HSV)\n",
    "\n",
    "    cv.imshow(\"Cam Recoder\", img)\n",
    "    cv.imshow(\"HSV \", hsv)\n",
    "    \n",
    "    if cv.waitKey(10)==27:\n",
    "        cam.release()\n",
    "        cv.destroyAllWindows()\n",
    "        break"
   ]
  },
  {
   "cell_type": "raw",
   "id": "bcbf143d-701f-49ac-ba2e-5422f8441fc8",
   "metadata": {},
   "source": [
    "Hue (H): Represents the color type (0-179 in OpenCV).\n",
    "            0 = Red, 60 = Yellow, 120 = Green, 180 = Cyan\n",
    "\n",
    "Saturation (S): Represents the intensity or purity of the color (0-255).\n",
    "\n",
    "Value (V): Represents the brightness of the color (0-255)."
   ]
  },
  {
   "cell_type": "markdown",
   "id": "982e361a-5713-40a4-b2ff-e8c75d5510a9",
   "metadata": {},
   "source": [
    "### frame extraction"
   ]
  },
  {
   "cell_type": "code",
   "execution_count": 15,
   "id": "ab1e8a3d-3b70-4e2f-a990-3b53ef5d8060",
   "metadata": {},
   "outputs": [],
   "source": [
    "cam = cv.VideoCapture(0)\n",
    "\n",
    "while True:\n",
    "    _, img = cam.read()\n",
    "    img = cv.flip(img, 1)\n",
    "    hsv = cv.cvtColor(img, cv.COLOR_BGR2HSV)\n",
    "    r = img[:,:, 0]\n",
    "    g = img[:, :, 1]\n",
    "    b = img[:, :, 2]\n",
    "    h = hsv [ :, : , 0]\n",
    "    s = hsv [ :, : , 1]\n",
    "    v = hsv [ :, : , 2]\n",
    "    \n",
    "\n",
    "    cv.imshow(\"Cam Recoder\", img)\n",
    "    cv.imshow(\"HSV \", hsv)\n",
    "    cv.imshow(\"Red \", r)\n",
    "    cv.imshow(\"Green \", g)\n",
    "    cv.imshow(\"Blue \", b)\n",
    "    cv.imshow(\"Hue\", h)\n",
    "    cv.imshow(\"Saturation\",  s)\n",
    "    cv.imshow(\"Value\", v)\n",
    "    \n",
    "    if cv.waitKey(10)==27:\n",
    "        cam.release()\n",
    "        cv.destroyAllWindows()\n",
    "        break"
   ]
  },
  {
   "cell_type": "code",
   "execution_count": null,
   "id": "6224e369-bba0-401f-8207-c62642e76030",
   "metadata": {},
   "outputs": [],
   "source": []
  }
 ],
 "metadata": {
  "kernelspec": {
   "display_name": "Python [conda env:base] *",
   "language": "python",
   "name": "conda-base-py"
  },
  "language_info": {
   "codemirror_mode": {
    "name": "ipython",
    "version": 3
   },
   "file_extension": ".py",
   "mimetype": "text/x-python",
   "name": "python",
   "nbconvert_exporter": "python",
   "pygments_lexer": "ipython3",
   "version": "3.12.7"
  }
 },
 "nbformat": 4,
 "nbformat_minor": 5
}

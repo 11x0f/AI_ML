{
 "cells": [
  {
   "cell_type": "code",
   "execution_count": 1,
   "id": "d8e882a2-14a0-41a0-9b99-2b47a8ecda6c",
   "metadata": {},
   "outputs": [],
   "source": [
    "import numpy as np\n",
    "import matplotlib.pyplot as plt\n",
    "import cv2 as cv"
   ]
  },
  {
   "cell_type": "code",
   "execution_count": 11,
   "id": "759919ee-43c8-441b-a1f4-461d5c22f74b",
   "metadata": {},
   "outputs": [],
   "source": [
    "cam = cv.VideoCapture(0)\n",
    "\n",
    "while True:\n",
    "    _, img = cam.read()\n",
    "    img = cv.flip(img, 1)\n",
    "\n",
    "    #rectangle\n",
    "    img = cv.rectangle(img, (200,70),(500,375), (255,255,255),5)\n",
    "\n",
    "    #circle\n",
    "    img = cv.circle(img, (350,225), 150, (255,255, 255), 2)\n",
    "\n",
    "    #text\n",
    "    img = cv.putText(img, \"Amith P\", (0,60), cv.FONT_HERSHEY_PLAIN, 5, (255,255,255), 2)\n",
    "    cv.imshow(\"Frame\", img)\n",
    "    key = cv.waitKey(10)\n",
    "\n",
    "    if key ==27:\n",
    "        cam.release()\n",
    "        break"
   ]
  },
  {
   "cell_type": "code",
   "execution_count": null,
   "id": "833707e7-0dbe-4b80-91ce-a6ec4831699f",
   "metadata": {},
   "outputs": [],
   "source": []
  }
 ],
 "metadata": {
  "kernelspec": {
   "display_name": "Python [conda env:base] *",
   "language": "python",
   "name": "conda-base-py"
  },
  "language_info": {
   "codemirror_mode": {
    "name": "ipython",
    "version": 3
   },
   "file_extension": ".py",
   "mimetype": "text/x-python",
   "name": "python",
   "nbconvert_exporter": "python",
   "pygments_lexer": "ipython3",
   "version": "3.12.7"
  }
 },
 "nbformat": 4,
 "nbformat_minor": 5
}

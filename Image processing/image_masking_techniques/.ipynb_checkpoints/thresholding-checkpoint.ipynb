{
 "cells": [
  {
   "cell_type": "code",
   "execution_count": null,
   "id": "b0e21969-393e-40f6-80de-2e91e51ec17d",
   "metadata": {},
   "outputs": [],
   "source": []
  },
  {
   "cell_type": "code",
   "execution_count": 1,
   "id": "e81c8b71-5d42-42c6-8d75-bbb4e15be3ab",
   "metadata": {},
   "outputs": [],
   "source": [
    "import cv2 as cv\n",
    "import numpy as np"
   ]
  },
  {
   "cell_type": "code",
   "execution_count": 14,
   "id": "650f5e94-ed50-4083-a7ff-aebe017cec42",
   "metadata": {},
   "outputs": [],
   "source": [
    "cam = cv.VideoCapture(0)\n",
    "\n",
    "while True:\n",
    "    _, img = cam.read()\n",
    "    img = cv.flip(img, 1)\n",
    "    gray = cv.cvtColor(img, cv.COLOR_RGB2GRAY)\n",
    "    \n",
    "    gray_thr1 = gray.copy()\n",
    "    gray_thr1[gray_thr1>200] = 255\n",
    "\n",
    "    gray_thr2 = gray.copy()\n",
    "    gray_thr2[gray_thr2>200] = 30\n",
    "\n",
    "    gray_thr3 = gray.copy()\n",
    "    gray_thr3[gray_thr3<127] = 30\n",
    "\n",
    "    gray_thr4 = gray.copy()\n",
    "    gray_thr4[gray_thr4<127] = 255\n",
    "    \n",
    "    cv.imshow(\"cam\", img)\n",
    "    cv.imshow(\"gray view\", gray)\n",
    "    cv.imshow(\"first threshold \",gray_thr1)\n",
    "    cv.imshow(\"second threshold \",gray_thr2)\n",
    "    cv.imshow(\"third threshold \",gray_thr3)\n",
    "    cv.imshow(\"fourth threshold \",gray_thr4)\n",
    "\n",
    "\n",
    "    if cv.waitKey(10)==27:\n",
    "        cam.release()\n",
    "        cv.destroyAllWindows()\n",
    "        break"
   ]
  },
  {
   "cell_type": "markdown",
   "id": "1bdbc04d-12d1-4e7b-b5ae-6423b5d31279",
   "metadata": {},
   "source": [
    "# mask specific color"
   ]
  },
  {
   "cell_type": "code",
   "execution_count": 21,
   "id": "6eedfc28-5b9b-4d03-ad90-f324c01f1ccd",
   "metadata": {},
   "outputs": [],
   "source": [
    "cam = cv.VideoCapture(0)\n",
    "\n",
    "lower = np.array([160,160,160])\n",
    "upper = np.array([255,255,255])\n",
    "\n",
    "while True:\n",
    "    _, img = cam.read()\n",
    "\n",
    "    img = cv.flip(img,1)\n",
    "    mask = cv.blur(img, (4,4))\n",
    "    mask = cv.inRange(img, lower, upper)\n",
    "    \n",
    "    cv.imshow(\"Original\", img)\n",
    "    cv.imshow(\"Masked\", mask)\n",
    "\n",
    "    if cv.waitKey(10)==27:\n",
    "        cam.release()\n",
    "        cv.destroyAllWindows()\n",
    "        break"
   ]
  },
  {
   "cell_type": "code",
   "execution_count": null,
   "id": "5dffbb69-d32e-4485-871f-1f0e804647b4",
   "metadata": {},
   "outputs": [],
   "source": []
  },
  {
   "cell_type": "markdown",
   "id": "7c669afe-d8c4-4196-a70e-772268e674d6",
   "metadata": {},
   "source": [
    "# masking images"
   ]
  },
  {
   "cell_type": "code",
   "execution_count": 3,
   "id": "03331c80-9e75-4826-a876-1cf514892eb6",
   "metadata": {},
   "outputs": [
    {
     "data": {
      "text/plain": [
       "-1"
      ]
     },
     "execution_count": 3,
     "metadata": {},
     "output_type": "execute_result"
    }
   ],
   "source": [
    "img = cv.imread(\"img_5.png\")\n",
    "\n",
    "lower = np.array([0, 0, 0])\n",
    "upper = np.array([50, 50, 50])\n",
    "\n",
    "mask = cv.blur(img, (4,4))\n",
    "mask = cv.inRange(img, lower, upper)\n",
    "\n",
    "cv.imshow(\"orginal\", img)\n",
    "cv.imshow(\"masked\", mask)\n",
    "\n",
    "cv.waitKey(0)"
   ]
  },
  {
   "cell_type": "code",
   "execution_count": null,
   "id": "bf114b4d-6359-427d-aae2-967f05a97a0c",
   "metadata": {},
   "outputs": [],
   "source": []
  }
 ],
 "metadata": {
  "kernelspec": {
   "display_name": "Python [conda env:base] *",
   "language": "python",
   "name": "conda-base-py"
  },
  "language_info": {
   "codemirror_mode": {
    "name": "ipython",
    "version": 3
   },
   "file_extension": ".py",
   "mimetype": "text/x-python",
   "name": "python",
   "nbconvert_exporter": "python",
   "pygments_lexer": "ipython3",
   "version": "3.12.7"
  }
 },
 "nbformat": 4,
 "nbformat_minor": 5
}

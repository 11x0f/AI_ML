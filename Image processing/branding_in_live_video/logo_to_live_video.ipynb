{
 "cells": [
  {
   "cell_type": "code",
   "execution_count": 1,
   "id": "db94b996-8c9f-40e1-9e82-309cbed1fc25",
   "metadata": {},
   "outputs": [],
   "source": [
    "import cv2 as cv\n",
    "import numpy as np"
   ]
  },
  {
   "cell_type": "code",
   "execution_count": 2,
   "id": "4ac3bebf-3be8-4f33-8dc3-d0a84dafdb58",
   "metadata": {},
   "outputs": [],
   "source": [
    "cam = cv.VideoCapture(0)\n",
    "\n",
    "while True:\n",
    "    _, img = cam.read()\n",
    "\n",
    "    img = cv.flip(img, 1)\n",
    "    logo = cv.imread(\"Old Eye Logo.jpg\")\n",
    "    logo = cv.resize(logo, (100,100))\n",
    "    img[ 50:150, 490:590, ] =logo\n",
    "    cv.imshow(\"Original \", img)\n",
    "\n",
    "        \n",
    "    if cv.waitKey(1) == 27:\n",
    "        cam.release()\n",
    "        cv.destroyAllWindows()\n",
    "        break"
   ]
  },
  {
   "cell_type": "code",
   "execution_count": 3,
   "id": "bf96a14a-9427-446c-a082-5d1cfa78af2b",
   "metadata": {},
   "outputs": [],
   "source": [
    "logo = cv.imread(\"Old Eye Logo.jpg\")\n",
    "logo = cv.resize(logo, (50,50))\n",
    "cv.imshow(\"logo\", logo)\n",
    "cv.waitKey(0)\n",
    "cv.destroyAllWindows()"
   ]
  },
  {
   "cell_type": "code",
   "execution_count": 4,
   "id": "a84b00c4-57bc-4437-adf8-2ad6618f58a2",
   "metadata": {},
   "outputs": [
    {
     "data": {
      "text/plain": [
       "(480, 640, 3)"
      ]
     },
     "execution_count": 4,
     "metadata": {},
     "output_type": "execute_result"
    }
   ],
   "source": [
    "img.shape"
   ]
  },
  {
   "cell_type": "code",
   "execution_count": 5,
   "id": "17033736-a8fa-401c-86de-8b636488ebf8",
   "metadata": {},
   "outputs": [
    {
     "data": {
      "text/plain": [
       "(50, 50, 3)"
      ]
     },
     "execution_count": 5,
     "metadata": {},
     "output_type": "execute_result"
    }
   ],
   "source": [
    "img[ :50 ,  590:640 , ].shape"
   ]
  },
  {
   "cell_type": "code",
   "execution_count": 6,
   "id": "1c99f24c-b817-4c9d-a149-c71d1f05ae07",
   "metadata": {},
   "outputs": [
    {
     "data": {
      "text/plain": [
       "590"
      ]
     },
     "execution_count": 6,
     "metadata": {},
     "output_type": "execute_result"
    }
   ],
   "source": [
    "640-50\n",
    "\n"
   ]
  },
  {
   "cell_type": "code",
   "execution_count": null,
   "id": "3c102589-2e2b-4e22-8ea9-b4eaeaf03844",
   "metadata": {},
   "outputs": [],
   "source": []
  },
  {
   "cell_type": "markdown",
   "id": "7e7cf664-b143-4748-8b46-707bc34b781a",
   "metadata": {},
   "source": [
    "## ASPECT RATIO"
   ]
  },
  {
   "cell_type": "markdown",
   "id": "fdc19923-e4e6-4f47-b06e-5d27c769f2ca",
   "metadata": {},
   "source": [
    "## AUTO FIT OF LOGO "
   ]
  },
  {
   "cell_type": "raw",
   "id": "53ed7d94-f77e-4d1b-99bf-b766462e1789",
   "metadata": {},
   "source": [
    "HEIGHT \n",
    "    MARGIN  = 1%\n",
    "    LOGO    = 7%\n",
    "    VACCANT = 92%\n",
    "\n",
    "WIDTH\n",
    "    MARGIN  = 0.5%\n",
    "    LOGO    = 4%\n",
    "    VACCANT = 95.5%"
   ]
  },
  {
   "cell_type": "code",
   "execution_count": 9,
   "id": "dc3b0212-a093-45a9-8a02-3eb327ace1d3",
   "metadata": {},
   "outputs": [
    {
     "data": {
      "text/plain": [
       "(480, 640, 3)"
      ]
     },
     "execution_count": 9,
     "metadata": {},
     "output_type": "execute_result"
    }
   ],
   "source": [
    "img.shape"
   ]
  },
  {
   "cell_type": "code",
   "execution_count": 10,
   "id": "30064c2b-63f2-4323-9ccc-4d8c666e91dc",
   "metadata": {},
   "outputs": [],
   "source": [
    "h = img.shape[0]\n",
    "w = img.shape[1]"
   ]
  },
  {
   "cell_type": "code",
   "execution_count": 11,
   "id": "8e1c3a3e-2778-46e6-9a22-ba4bb7f3f769",
   "metadata": {},
   "outputs": [],
   "source": [
    "margin_top = int(h/100) \n",
    "logo_h = int( (h/100)* 7)\n",
    "\n",
    "margin_left = int((w/100)*95.5)\n",
    "logo_w = int((w/100)*4)"
   ]
  },
  {
   "cell_type": "code",
   "execution_count": 12,
   "id": "9b38175a-89fa-4d2c-9fe5-559c44dc710b",
   "metadata": {},
   "outputs": [],
   "source": [
    "cam = cv.VideoCapture(0)\n",
    "\n",
    "while True:\n",
    "    _, img = cam.read()\n",
    "\n",
    "    img = cv.flip(img, 1)\n",
    "    logo = cv.imread(\"Old Eye Logo.jpg\")\n",
    "    \n",
    "\n",
    "    h = img.shape[0]\n",
    "    w = img.shape[1]\n",
    "\n",
    "    margin_top = int(h/100)                # 1%\n",
    "    logo_h = int( (h/100)* 7)              # 7%\n",
    "    \n",
    "    margin_left = int((w/100)*95.5)\n",
    "    logo_w = int((w/100)*4)\n",
    "\n",
    "    logo = cv.resize(logo, (logo_w,logo_h))\n",
    "\n",
    "    img[ margin_top:logo_h+margin_top , margin_left:logo_w +margin_left , ] = logo\n",
    "    cv.imshow(\"TOP RIGHT \", img)\n",
    "\n",
    "        \n",
    "    if cv.waitKey(1) == 27:\n",
    "        cam.release()\n",
    "        cv.destroyAllWindows()\n",
    "        break"
   ]
  },
  {
   "cell_type": "markdown",
   "id": "033defad-d6de-4eb9-9412-5c3aebbde253",
   "metadata": {},
   "source": [
    "## ALL DIRECTION FIT OF LOGO"
   ]
  },
  {
   "cell_type": "markdown",
   "id": "f0d0c87d-804d-4b85-a0f3-273a2795023e",
   "metadata": {},
   "source": [
    "### TOP LEFT"
   ]
  },
  {
   "cell_type": "code",
   "execution_count": 15,
   "id": "c4e7ff87-4659-40bb-8afb-d7c58144e35b",
   "metadata": {},
   "outputs": [],
   "source": [
    "cam = cv.VideoCapture(0)\n",
    "\n",
    "while True:\n",
    "    _, img = cam.read()\n",
    "\n",
    "    img = cv.flip(img, 1)\n",
    "    logo = cv.imread(\"Old Eye Logo.jpg\")\n",
    "    \n",
    "\n",
    "    h = img.shape[0]\n",
    "    w = img.shape[1]\n",
    "\n",
    "    margin_top = int(h/100)                # 1%\n",
    "    logo_h = int( (h/100)* 20)              # 7%\n",
    "    \n",
    "    margin_left = int((w/100)*.5)\n",
    "    logo_w = int((w/100)*20)\n",
    "\n",
    "    logo = cv.resize(logo, (logo_w,logo_h))\n",
    "\n",
    "    img[ margin_top:logo_h+margin_top , margin_left:logo_w +margin_left , ] = logo\n",
    "    cv.imshow(\"TOP LEFT \", img)\n",
    "\n",
    "        \n",
    "    if cv.waitKey(1) == 27:\n",
    "        cam.release()\n",
    "        cv.destroyAllWindows()\n",
    "        break"
   ]
  },
  {
   "cell_type": "markdown",
   "id": "b99f5ee5-177f-4073-8a4b-c1852a8dba29",
   "metadata": {},
   "source": [
    "### BOTTOM LEFT"
   ]
  },
  {
   "cell_type": "code",
   "execution_count": 17,
   "id": "0aa35a66-3ee6-4b44-8f07-8f5d718d0cb2",
   "metadata": {},
   "outputs": [],
   "source": [
    "cam = cv.VideoCapture(0)\n",
    "\n",
    "while True:\n",
    "    _, img = cam.read()\n",
    "\n",
    "    img = cv.flip(img, 1)\n",
    "    logo = cv.imread(\"Old Eye Logo.jpg\")\n",
    "    \n",
    "\n",
    "    h = img.shape[0]\n",
    "    w = img.shape[1]\n",
    "\n",
    "    margin_top = int((h/100)*92)            \n",
    "    logo_h = int( (h/100)* 7)              \n",
    "    \n",
    "    margin_left = int((w/100)*.5)\n",
    "    logo_w = int((w/100)*4)\n",
    "\n",
    "    logo = cv.resize(logo, (logo_w,logo_h))\n",
    "\n",
    "    img[ margin_top:logo_h+margin_top , margin_left:logo_w +margin_left , ] = logo\n",
    "    cv.imshow(\"BOTTOM LEFT \", img)\n",
    "\n",
    "        \n",
    "    if cv.waitKey(1) == 27:\n",
    "        cam.release()\n",
    "        cv.destroyAllWindows()\n",
    "        break"
   ]
  },
  {
   "cell_type": "markdown",
   "id": "1269052b-c278-4b0b-9eaf-3f0bc7dd88c3",
   "metadata": {},
   "source": [
    "### BOTTOM RIGHT"
   ]
  },
  {
   "cell_type": "code",
   "execution_count": 19,
   "id": "a59ea2c0-5774-49e6-b854-17e79541bf6a",
   "metadata": {},
   "outputs": [],
   "source": [
    "cam = cv.VideoCapture(0)\n",
    "\n",
    "while True:\n",
    "    _, img = cam.read()\n",
    "\n",
    "    img = cv.flip(img, 1)\n",
    "    logo = cv.imread(\"Old Eye Logo.jpg\")\n",
    "    \n",
    "\n",
    "    h = img.shape[0]\n",
    "    w = img.shape[1]\n",
    "\n",
    "    margin_top = int((h/100)*92)                # 1%\n",
    "    logo_h = int( (h/100)* 7)              # 7%\n",
    "    \n",
    "    margin_left = int((w/100)*95.5)\n",
    "    logo_w = int((w/100)*4)\n",
    "\n",
    "    logo = cv.resize(logo, (logo_w,logo_h))\n",
    "\n",
    "    img[ margin_top:logo_h+margin_top , margin_left:logo_w +margin_left , ] = logo\n",
    "    cv.imshow(\"BOTTOM RIGHT \", img)\n",
    "\n",
    "        \n",
    "    if cv.waitKey(1) == 27:\n",
    "        cam.release()\n",
    "        cv.destroyAllWindows()\n",
    "        break"
   ]
  },
  {
   "cell_type": "code",
   "execution_count": null,
   "id": "a1bf88f6-faa3-499a-aad1-98ce318685ef",
   "metadata": {},
   "outputs": [],
   "source": []
  },
  {
   "cell_type": "markdown",
   "id": "c1681f52-3cdb-4844-abeb-dc562a4c2d29",
   "metadata": {},
   "source": [
    "### MERGE EVERTHING\n"
   ]
  },
  {
   "cell_type": "code",
   "execution_count": 21,
   "id": "9601b067-1c28-406e-a004-6e669f627bad",
   "metadata": {},
   "outputs": [],
   "source": [
    "cam = cv.VideoCapture(0)\n",
    "\n",
    "while True:\n",
    "    _, img = cam.read()\n",
    "\n",
    "    img = cv.flip(img, 1)\n",
    "    logo = cv.imread(\"Old Eye Logo.jpg\")\n",
    "\n",
    "    #TOP RIGHT\n",
    "    margin_top = int(h/100)                # 1%\n",
    "    logo_h = int( (h/100)* 7)              # 7%\n",
    "    margin_left = int((w/100)*95.5)\n",
    "    logo_w = int((w/100)*4)\n",
    "    logo = cv.resize(logo, (logo_w,logo_h))\n",
    "    img[ margin_top:logo_h+margin_top , margin_left:logo_w +margin_left , ] = logo\n",
    "\n",
    "    #TOP LEFT\n",
    "    margin_top = int(h/100)                # 1%\n",
    "    logo_h = int( (h/100)* 7)              # 7%\n",
    "    margin_left = int((w/100)*.5)\n",
    "    logo_w = int((w/100)*4)\n",
    "    logo = cv.resize(logo, (logo_w,logo_h))\n",
    "    img[ margin_top:logo_h+margin_top , margin_left:logo_w +margin_left , ] = logo\n",
    "\n",
    "    #BOTTOM LEFT\n",
    "    margin_top = int((h/100)*92)            \n",
    "    logo_h = int( (h/100)* 7)              \n",
    "    margin_left = int((w/100)*.5)\n",
    "    logo_w = int((w/100)*4)\n",
    "    logo = cv.resize(logo, (logo_w,logo_h))\n",
    "    img[ margin_top:logo_h+margin_top , margin_left:logo_w +margin_left , ] = logo\n",
    "\n",
    "    #BOTTOM RIGHT\n",
    "    margin_top = int((h/100)*92)                \n",
    "    logo_h = int( (h/100)* 7)              \n",
    "    margin_left = int((w/100)*95.5)\n",
    "    logo_w = int((w/100)*4)\n",
    "    logo = cv.resize(logo, (logo_w,logo_h))\n",
    "    img[ margin_top:logo_h+margin_top , margin_left:logo_w +margin_left , ] = logo\n",
    "    \n",
    "    cv.imshow(\"LOGO AT ALL 4 CORNERS \", img)\n",
    "\n",
    "        \n",
    "    if cv.waitKey(1) == 27:\n",
    "        cam.release()\n",
    "        cv.destroyAllWindows()\n",
    "        break"
   ]
  },
  {
   "cell_type": "code",
   "execution_count": null,
   "id": "45a1adb1-1fdc-4e1b-a06a-7f974f60061a",
   "metadata": {},
   "outputs": [],
   "source": []
  },
  {
   "cell_type": "markdown",
   "id": "ddea50dd-ccc1-4f7d-8b68-ead3d14ba167",
   "metadata": {},
   "source": [
    "# DYNAMIC FIT FOR LOGO"
   ]
  },
  {
   "cell_type": "code",
   "execution_count": null,
   "id": "034a290c-8f3e-47b1-89f0-fe25cffaa154",
   "metadata": {},
   "outputs": [],
   "source": [
    "import cv2 as cv\n",
    "import numpy as np\n",
    " \n",
    "cam = cv.VideoCapture(0)\n",
    "logo = cv.imread('Old Eye Logo.jpg')\n",
    "\n",
    "r = 1280\n",
    "\n",
    "while True:\n",
    "    \n",
    "    logo = cv.imread('Old Eye Logo.jpg')\n",
    "    _, img = cam.read()\n",
    "\n",
    "    img = cv.flip(img,1)\n",
    "    \n",
    "    img = img[ : , :r  ]\n",
    "    \n",
    "#     img = cv.resize(img, (720,720))\n",
    "    \n",
    "    ht = img.shape[0]\n",
    "    wt = img.shape[1]\n",
    "    \n",
    "    margin_top  = int(ht/100)             # 1%\n",
    "    logo_height = int((ht/100)*7)         # 7%\n",
    "    \n",
    "    margin_left = int((wt/100)*95.5)      # 95.5%\n",
    "    logo_width  = int((wt/100)*4)         # 4%\n",
    "    \n",
    "    side = min(logo_width,logo_height)\n",
    "    \n",
    "    logo = cv.resize(logo, (side, side))\n",
    "    \n",
    "    img[ margin_top : side + margin_top , margin_left : margin_left + side ] = logo\n",
    "\n",
    "    cv.imshow('Frame'  , img)\n",
    "    \n",
    "    if (cv.waitKey(1) == 115):\n",
    "        r -= 10\n",
    "    \n",
    "    elif (cv.waitKey(1) == 119):\n",
    "        r += 10\n",
    "    \n",
    "    elif cv.waitKey(1) == 27:\n",
    "        cam.release()\n",
    "        break"
   ]
  },
  {
   "cell_type": "code",
   "execution_count": null,
   "id": "3d645aef-ac29-4826-9d17-0d198e36ad9d",
   "metadata": {},
   "outputs": [],
   "source": []
  }
 ],
 "metadata": {
  "kernelspec": {
   "display_name": "Python [conda env:base] *",
   "language": "python",
   "name": "conda-base-py"
  },
  "language_info": {
   "codemirror_mode": {
    "name": "ipython",
    "version": 3
   },
   "file_extension": ".py",
   "mimetype": "text/x-python",
   "name": "python",
   "nbconvert_exporter": "python",
   "pygments_lexer": "ipython3",
   "version": "3.12.7"
  }
 },
 "nbformat": 4,
 "nbformat_minor": 5
}

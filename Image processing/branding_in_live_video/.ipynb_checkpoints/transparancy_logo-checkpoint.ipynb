{
 "cells": [
  {
   "cell_type": "code",
   "execution_count": 2,
   "id": "2aa11caf-1a00-4ce9-883d-752f0c4c5d51",
   "metadata": {},
   "outputs": [],
   "source": [
    "import cv2 as cv\n",
    "import numpy as np"
   ]
  },
  {
   "cell_type": "code",
   "execution_count": null,
   "id": "05f3878e-ad8a-42fd-be0c-d9a756bdf19d",
   "metadata": {},
   "outputs": [],
   "source": [
    "cam = cv.VideoCapture(0)\n",
    "\n",
    "while True:\n",
    "    _, img = cam.read()\n",
    "    img = cv.flip(img, 1)\n",
    "    logo = cv.imread(\"Old Eye Logo.jpg\")\n",
    "    \n",
    "    \n",
    "    h = img.shape[0]\n",
    "    w = img.shape[1]\n",
    "\n",
    "    margin_top = int(h/100)\n",
    "    logo_height = int((h/100)*7)\n",
    "\n",
    "    margin_left = int((w/100)*95.5)\n",
    "    logo_width = int((w/100)*4)\n",
    "\n",
    "    side = min(logo_height, logo_width)\n",
    "    \n",
    "    bg = img[margin_top: side + margin_top, margin_left : side + margin_left ].copy()\n",
    "    \n",
    "    logo = cv.resize(logo, (side, side))\n",
    "\n",
    "    #img[margin_top: side + margin_top, margin_left : side + margin_left ] = logo\n",
    "\n",
    "    final_logo = cv.addWeighted(bg, 0.5, logo, 0.5, 0)\n",
    "\n",
    "\n",
    "    img[margin_top: side + margin_top, margin_left : side + margin_left ] = final_logo\n",
    "\n",
    "    cv.imshow(\"original\", img)\n",
    "    #cv.imshow(\"logo\", logo)\n",
    "    #cv.imshow(\"background\", bg)\n",
    "    \n",
    "    if cv.waitKey(1) == 27:\n",
    "        cam.release()\n",
    "        cv.destroyAllWindows()\n",
    "        break"
   ]
  },
  {
   "cell_type": "code",
   "execution_count": null,
   "id": "f3b0ce6b-0b99-4547-b29b-dc54846519c8",
   "metadata": {},
   "outputs": [],
   "source": []
  }
 ],
 "metadata": {
  "kernelspec": {
   "display_name": "Python [conda env:base] *",
   "language": "python",
   "name": "conda-base-py"
  },
  "language_info": {
   "codemirror_mode": {
    "name": "ipython",
    "version": 3
   },
   "file_extension": ".py",
   "mimetype": "text/x-python",
   "name": "python",
   "nbconvert_exporter": "python",
   "pygments_lexer": "ipython3",
   "version": "3.12.7"
  }
 },
 "nbformat": 4,
 "nbformat_minor": 5
}

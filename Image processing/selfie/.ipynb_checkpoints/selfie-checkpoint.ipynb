{
 "cells": [
  {
   "cell_type": "code",
   "execution_count": 19,
   "id": "3b1f810a-0ed8-43ce-9f7d-dad5d3492e25",
   "metadata": {},
   "outputs": [],
   "source": [
    "import cv2 as cv\n",
    "import os\n",
    "import warnings\n",
    "warnings.filterwarnings(\"ignore\")"
   ]
  },
  {
   "cell_type": "code",
   "execution_count": 21,
   "id": "461be952-0037-4947-b66b-0c5a7c7a8e98",
   "metadata": {},
   "outputs": [],
   "source": [
    "cam = cv.VideoCapture(0)\n",
    "\n",
    "while True:\n",
    "    _, img = cam.read()\n",
    "\n",
    "    img = cv.flip(img, 1)\n",
    "\n",
    "    cv.imshow(\"Cam View\", img)\n",
    "    gray = cv.cvtColor(img, cv.COLOR_RGB2GRAY)\n",
    "    if cv.waitKey(10) == 27:\n",
    "        cam.release()\n",
    "        cv.destroyAllWindows()\n",
    "        break\n",
    "\n",
    "    if cv.waitKey(10) == 13:\n",
    "        cv.imwrite(os.getcwd()+\"\\ Selfie.png\", img)\n",
    "        cv.imwrite(os.getcwd()+\"\\ black_and_white_selfie.png\", gray)\n",
    "        cam.release()\n",
    "        cv.destroyAllWindows()\n",
    "        break\n"
   ]
  },
  {
   "cell_type": "markdown",
   "id": "cd1c753c-40d7-4ca5-8b86-06da095db832",
   "metadata": {},
   "source": [
    "### multiple selfies"
   ]
  },
  {
   "cell_type": "code",
   "execution_count": 28,
   "id": "8855b0f1-a866-43ed-b764-fd0d4546e55d",
   "metadata": {},
   "outputs": [
    {
     "data": {
      "text/plain": [
       "'C:\\\\Users\\\\amith\\\\AI_ML\\\\Image processing\\\\selfie'"
      ]
     },
     "execution_count": 28,
     "metadata": {},
     "output_type": "execute_result"
    }
   ],
   "source": [
    "path = os.getcwd()\n",
    "path"
   ]
  },
  {
   "cell_type": "code",
   "execution_count": 37,
   "id": "1ff3c9e2-97e8-4452-8a3b-7314f33c9d3e",
   "metadata": {},
   "outputs": [],
   "source": [
    "cam = cv.VideoCapture(0)\n",
    "c=1\n",
    "while True:\n",
    "    _, img = cam.read()\n",
    "\n",
    "    img = cv.flip(img, 1)\n",
    "\n",
    "    cv.imshow(\"Cam View\", img)\n",
    "    gray = cv.cvtColor(img, cv.COLOR_RGB2GRAY)\n",
    "    if cv.waitKey(10) == 27:\n",
    "        cam.release()\n",
    "        cv.destroyAllWindows()\n",
    "        break\n",
    "\n",
    "    if cv.waitKey(10) == 13:\n",
    "        cv.imwrite(os.getcwd()+\"\\selfie_folder\\ Selfie_\"+ str(c) +\".png\", img)\n",
    "        c=c+1\n",
    "        \n"
   ]
  },
  {
   "cell_type": "code",
   "execution_count": null,
   "id": "e708b311-89d0-4425-9d52-ff69ca91f368",
   "metadata": {},
   "outputs": [],
   "source": []
  }
 ],
 "metadata": {
  "kernelspec": {
   "display_name": "Python [conda env:base] *",
   "language": "python",
   "name": "conda-base-py"
  },
  "language_info": {
   "codemirror_mode": {
    "name": "ipython",
    "version": 3
   },
   "file_extension": ".py",
   "mimetype": "text/x-python",
   "name": "python",
   "nbconvert_exporter": "python",
   "pygments_lexer": "ipython3",
   "version": "3.12.7"
  }
 },
 "nbformat": 4,
 "nbformat_minor": 5
}

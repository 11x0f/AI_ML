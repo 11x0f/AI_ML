{
 "cells": [
  {
   "cell_type": "code",
   "execution_count": 1,
   "id": "c1d8e92a-95f8-485f-92be-6f95e981ab96",
   "metadata": {},
   "outputs": [],
   "source": [
    "import cv2 as cv\n",
    "import os\n",
    "import pandas as pd\n",
    "import numpy as np"
   ]
  },
  {
   "cell_type": "code",
   "execution_count": 2,
   "id": "958487db-630c-4544-8f32-b64f04fe36d8",
   "metadata": {},
   "outputs": [
    {
     "name": "stdout",
     "output_type": "stream",
     "text": [
      "People/IMG_1.png is exported\n",
      "People/IMG_2.png is exported\n",
      "People/IMG_3.png is exported\n",
      "People/IMG_4.png is exported\n",
      "People/IMG_5.png is exported\n"
     ]
    }
   ],
   "source": [
    "classifier = cv.CascadeClassifier(\"haarcascade_frontalface_default.xml\")\n",
    "\n",
    "img = cv.imread(\"group.png\")\n",
    "faces = classifier.detectMultiScale(img, 1.4, 5)\n",
    "\n",
    "cv.imshow(\"group photo\", img)\n",
    "\n",
    "def save_img(frame, folder_name):\n",
    "    img_count= len(os.listdir(folder_name))+1\n",
    "    img_name = folder_name+\"/IMG_\" + str(img_count) + \".png\"\n",
    "    cv.imwrite(img_name, frame )\n",
    "    print(img_name, \"is exported\")\n",
    "    \n",
    "for (x, y, w, h)  in faces:\n",
    "    face = img[y:y+h, x:x+w]\n",
    "    cv.imshow(\"individual\", face)\n",
    "    save_img(face, \"People\")\n",
    "    # key = cv.waitKey(0) \n",
    "    # if key == 13:\n",
    "    #     save_img(face, \"People\")\n",
    "\n",
    "    # elif key == 127:\n",
    "    #     pass\n",
    "    \n",
    "    # if cv.waitKey(0)== 27:\n",
    "    #     cv.destroyAllWindows()"
   ]
  },
  {
   "cell_type": "code",
   "execution_count": null,
   "id": "c9fd84e4-379b-4095-be79-c7c184ef1417",
   "metadata": {},
   "outputs": [],
   "source": []
  }
 ],
 "metadata": {
  "kernelspec": {
   "display_name": "Python [conda env:base] *",
   "language": "python",
   "name": "conda-base-py"
  },
  "language_info": {
   "codemirror_mode": {
    "name": "ipython",
    "version": 3
   },
   "file_extension": ".py",
   "mimetype": "text/x-python",
   "name": "python",
   "nbconvert_exporter": "python",
   "pygments_lexer": "ipython3",
   "version": "3.12.7"
  }
 },
 "nbformat": 4,
 "nbformat_minor": 5
}

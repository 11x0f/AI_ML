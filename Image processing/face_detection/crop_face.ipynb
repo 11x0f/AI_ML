{
 "cells": [
  {
   "cell_type": "code",
   "execution_count": 5,
   "id": "aa9bdaa1-f4b8-49a7-b29a-8089d90078e5",
   "metadata": {},
   "outputs": [],
   "source": [
    "import cv2 as cv\n",
    "import numpy as np"
   ]
  },
  {
   "cell_type": "code",
   "execution_count": 17,
   "id": "772548eb-6aac-43c7-afc2-3e10f55b76f5",
   "metadata": {},
   "outputs": [],
   "source": [
    "classifier = cv.CascadeClassifier(\"haarcascade_frontalface_default.xml\")\n",
    "\n",
    "cam = cv.VideoCapture(0)\n",
    "while True:\n",
    "    _, img =cam.read()\n",
    "    img = cv.flip(img, 1)\n",
    "    \n",
    "    faces = classifier.detectMultiScale(img, 1.4, 5)\n",
    "    \n",
    "    for (x, y, w, h)  in faces:\n",
    "        cv.rectangle(img, (x,y), (x+w, y+h), (255, 255,255), 5)\n",
    "        crop = img[y:y+h, x:x+w, :]\n",
    "        \n",
    "\n",
    "    cv.imshow(\"Cam View\", img)\n",
    "    cv.imshow(\"Face\", crop)\n",
    "    \n",
    "    if cv.waitKey(1)==27:\n",
    "        cam.release()\n",
    "        cv.destroyAllWindows()\n",
    "        break\n",
    "        "
   ]
  },
  {
   "cell_type": "code",
   "execution_count": null,
   "id": "75bafd31-ac05-473c-a384-82d01c8ce1fa",
   "metadata": {},
   "outputs": [],
   "source": []
  }
 ],
 "metadata": {
  "kernelspec": {
   "display_name": "Python [conda env:base] *",
   "language": "python",
   "name": "conda-base-py"
  },
  "language_info": {
   "codemirror_mode": {
    "name": "ipython",
    "version": 3
   },
   "file_extension": ".py",
   "mimetype": "text/x-python",
   "name": "python",
   "nbconvert_exporter": "python",
   "pygments_lexer": "ipython3",
   "version": "3.12.7"
  }
 },
 "nbformat": 4,
 "nbformat_minor": 5
}
